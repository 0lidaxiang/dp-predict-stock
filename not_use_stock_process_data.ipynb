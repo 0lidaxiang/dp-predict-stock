{
 "cells": [
  {
   "cell_type": "code",
   "execution_count": 1,
   "metadata": {},
   "outputs": [],
   "source": [
    "import os\n",
    "import pandas as pd\n",
    "import requests\n",
    "from datetime import datetime\n",
    "import json\n",
    "import re"
   ]
  },
  {
   "cell_type": "code",
   "execution_count": 2,
   "metadata": {},
   "outputs": [],
   "source": [
    "# TRAINING_PATH = './data/news/'\n",
    "# TESTING_PATH = './data/news/'"
   ]
  },
  {
   "cell_type": "code",
   "execution_count": 3,
   "metadata": {},
   "outputs": [
    {
     "name": "stdout",
     "output_type": "stream",
     "text": [
      "CPU times: user 24.8 ms, sys: 136 µs, total: 25 ms\n",
      "Wall time: 5.01 s\n"
     ]
    }
   ],
   "source": [
    "%%time\n",
    "url = 'https://www.alphavantage.co/query?function=TIME_SERIES_DAILY&symbol=MSFT&apikey=demo'\n",
    "# &outputsize=full\n",
    "web_data = requests.get(url)\n",
    "web_data.encoding = 'utf-8'"
   ]
  },
  {
   "cell_type": "code",
   "execution_count": 4,
   "metadata": {},
   "outputs": [
    {
     "name": "stdout",
     "output_type": "stream",
     "text": [
      "<class 'dict'> 2 dict_keys(['Meta Data', 'Time Series (Daily)'])\n"
     ]
    }
   ],
   "source": [
    "web_data_text = web_data.text\n",
    "json_acceptable_string = web_data_text.replace(\"'\", \"\\\"\")\n",
    "web_data_dict = json.loads(json_acceptable_string)\n",
    "\n",
    "print(type(web_data_dict), len(web_data_dict), web_data_dict.keys())"
   ]
  },
  {
   "cell_type": "code",
   "execution_count": 5,
   "metadata": {},
   "outputs": [
    {
     "name": "stdout",
     "output_type": "stream",
     "text": [
      "{'1. Information': 'Daily Prices (open, high, low, close) and Volumes', '2. Symbol': 'MSFT', '3. Last Refreshed': '2018-05-25', '4. Output Size': 'Compact', '5. Time Zone': 'US/Eastern'} \n",
      "\n",
      "<class 'dict'> dict_keys(['2018-05-25', '2018-05-24', '2018-05-23', '2018-05-22', '2018-05-21', '2018-05-18', '2018-05-17', '2018-05-16', '2018-05-15', '2018-05-14', '2018-05-11', '2018-05-10', '2018-05-09', '2018-05-08', '2018-05-07', '2018-05-04', '2018-05-03', '2018-05-02', '2018-05-01', '2018-04-30', '2018-04-27', '2018-04-26', '2018-04-25', '2018-04-24', '2018-04-23', '2018-04-20', '2018-04-19', '2018-04-18', '2018-04-17', '2018-04-16', '2018-04-13', '2018-04-12', '2018-04-11', '2018-04-10', '2018-04-09', '2018-04-06', '2018-04-05', '2018-04-04', '2018-04-03', '2018-04-02', '2018-03-29', '2018-03-28', '2018-03-27', '2018-03-26', '2018-03-23', '2018-03-22', '2018-03-21', '2018-03-20', '2018-03-19', '2018-03-16', '2018-03-15', '2018-03-14', '2018-03-13', '2018-03-12', '2018-03-09', '2018-03-08', '2018-03-07', '2018-03-06', '2018-03-05', '2018-03-02', '2018-03-01', '2018-02-28', '2018-02-27', '2018-02-26', '2018-02-23', '2018-02-22', '2018-02-21', '2018-02-20', '2018-02-16', '2018-02-15', '2018-02-14', '2018-02-13', '2018-02-12', '2018-02-09', '2018-02-08', '2018-02-07', '2018-02-06', '2018-02-05', '2018-02-02', '2018-02-01', '2018-01-31', '2018-01-30', '2018-01-29', '2018-01-26', '2018-01-25', '2018-01-24', '2018-01-23', '2018-01-22', '2018-01-19', '2018-01-18', '2018-01-17', '2018-01-16', '2018-01-12', '2018-01-11', '2018-01-10', '2018-01-09', '2018-01-08', '2018-01-05', '2018-01-04', '2018-01-03'])\n"
     ]
    }
   ],
   "source": [
    "del web_data, web_data_text, json_acceptable_string\n",
    "\n",
    "meta_data_dict = web_data_dict[\"Meta Data\"]\n",
    "stock_data_dict = web_data_dict[\"Time Series (Daily)\"]\n",
    "\n",
    "del web_data_dict\n",
    "\n",
    "print(meta_data_dict, \"\\n\")\n",
    "\n",
    "print(type(stock_data_dict), stock_data_dict.keys())"
   ]
  },
  {
   "cell_type": "code",
   "execution_count": 16,
   "metadata": {},
   "outputs": [
    {
     "name": "stdout",
     "output_type": "stream",
     "text": [
      "<class 'list'> ['2018-05-25', '2018-05-24', '2018-05-23']\n",
      "<class 'dict'> {'1. open': '98.7250', '2. high': '98.9400', '3. low': '96.8100', '4. close': '98.3100', '5. volume': '26649287'} 98.3100\n"
     ]
    }
   ],
   "source": [
    "stock_time = list(stock_data_dict.keys())\n",
    "print(type(stock_time), stock_time[:3])\n",
    "\n",
    "stock_val = stock_data_dict.values()\n",
    "term = stock_data_dict[\"2018-05-24\"]\n",
    "print(type(term), term, term[\"4. close\"])"
   ]
  }
 ],
 "metadata": {
  "kernelspec": {
   "display_name": "Python 3",
   "language": "python",
   "name": "python3"
  },
  "language_info": {
   "codemirror_mode": {
    "name": "ipython",
    "version": 3
   },
   "file_extension": ".py",
   "mimetype": "text/x-python",
   "name": "python",
   "nbconvert_exporter": "python",
   "pygments_lexer": "ipython3",
   "version": "3.6.5"
  }
 },
 "nbformat": 4,
 "nbformat_minor": 2
}
