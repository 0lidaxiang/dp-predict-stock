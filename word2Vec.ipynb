{
 "cells": [
  {
   "cell_type": "code",
   "execution_count": 1,
   "metadata": {
    "scrolled": true
   },
   "outputs": [],
   "source": [
    "import pandas as pd\n",
    "from gensim.models.word2vec import Word2Vec\n",
    "from gensim.utils import simple_preprocess"
   ]
  },
  {
   "cell_type": "code",
   "execution_count": 2,
   "metadata": {},
   "outputs": [
    {
     "data": {
      "text/html": [
       "<div>\n",
       "<style scoped>\n",
       "    .dataframe tbody tr th:only-of-type {\n",
       "        vertical-align: middle;\n",
       "    }\n",
       "\n",
       "    .dataframe tbody tr th {\n",
       "        vertical-align: top;\n",
       "    }\n",
       "\n",
       "    .dataframe thead th {\n",
       "        text-align: right;\n",
       "    }\n",
       "</style>\n",
       "<table border=\"1\" class=\"dataframe\">\n",
       "  <thead>\n",
       "    <tr style=\"text-align: right;\">\n",
       "      <th></th>\n",
       "      <th>ari_time</th>\n",
       "      <th>ari_title</th>\n",
       "      <th>price</th>\n",
       "    </tr>\n",
       "  </thead>\n",
       "  <tbody>\n",
       "    <tr>\n",
       "      <th>0</th>\n",
       "      <td>2006-10-20T20:16:16Z</td>\n",
       "      <td>Inco's Net Soars on Higher Metal Prices, Break...</td>\n",
       "      <td>1</td>\n",
       "    </tr>\n",
       "    <tr>\n",
       "      <th>1</th>\n",
       "      <td>2006-10-23T11:51:36Z</td>\n",
       "      <td>EU Energy Chief Backs German Plan for Price Co...</td>\n",
       "      <td>1</td>\n",
       "    </tr>\n",
       "    <tr>\n",
       "      <th>2</th>\n",
       "      <td>2006-10-23T20:00:29Z</td>\n",
       "      <td>Ex-Plant Worker Shuster Pleads Guilty in Tradi...</td>\n",
       "      <td>1</td>\n",
       "    </tr>\n",
       "    <tr>\n",
       "      <th>3</th>\n",
       "      <td>2006-10-24T10:53:59Z</td>\n",
       "      <td>Russia, Ukraine End Dispute That Cut Gas Supplies</td>\n",
       "      <td>1</td>\n",
       "    </tr>\n",
       "    <tr>\n",
       "      <th>4</th>\n",
       "      <td>2006-10-24T01:32:04Z</td>\n",
       "      <td>Jim Cramer: Bare Escentuals, Allergan, Medicis...</td>\n",
       "      <td>1</td>\n",
       "    </tr>\n",
       "  </tbody>\n",
       "</table>\n",
       "</div>"
      ],
      "text/plain": [
       "               ari_time                                          ari_title  \\\n",
       "0  2006-10-20T20:16:16Z  Inco's Net Soars on Higher Metal Prices, Break...   \n",
       "1  2006-10-23T11:51:36Z  EU Energy Chief Backs German Plan for Price Co...   \n",
       "2  2006-10-23T20:00:29Z  Ex-Plant Worker Shuster Pleads Guilty in Tradi...   \n",
       "3  2006-10-24T10:53:59Z  Russia, Ukraine End Dispute That Cut Gas Supplies   \n",
       "4  2006-10-24T01:32:04Z  Jim Cramer: Bare Escentuals, Allergan, Medicis...   \n",
       "\n",
       "   price  \n",
       "0      1  \n",
       "1      1  \n",
       "2      1  \n",
       "3      1  \n",
       "4      1  "
      ]
     },
     "execution_count": 2,
     "metadata": {},
     "output_type": "execute_result"
    }
   ],
   "source": [
    "train_df = pd.read_pickle(\"./train.pkl\")\n",
    "train_df.head()"
   ]
  },
  {
   "cell_type": "code",
   "execution_count": 3,
   "metadata": {},
   "outputs": [
    {
     "data": {
      "text/html": [
       "<div>\n",
       "<style scoped>\n",
       "    .dataframe tbody tr th:only-of-type {\n",
       "        vertical-align: middle;\n",
       "    }\n",
       "\n",
       "    .dataframe tbody tr th {\n",
       "        vertical-align: top;\n",
       "    }\n",
       "\n",
       "    .dataframe thead th {\n",
       "        text-align: right;\n",
       "    }\n",
       "</style>\n",
       "<table border=\"1\" class=\"dataframe\">\n",
       "  <thead>\n",
       "    <tr style=\"text-align: right;\">\n",
       "      <th></th>\n",
       "      <th>ari_time</th>\n",
       "      <th>ari_title</th>\n",
       "      <th>price</th>\n",
       "    </tr>\n",
       "  </thead>\n",
       "  <tbody>\n",
       "    <tr>\n",
       "      <th>0</th>\n",
       "      <td>2006-10-27</td>\n",
       "      <td>balda say investor asks</td>\n",
       "      <td>0</td>\n",
       "    </tr>\n",
       "    <tr>\n",
       "      <th>1</th>\n",
       "      <td>2006-11-01</td>\n",
       "      <td>ace lift pay</td>\n",
       "      <td>0</td>\n",
       "    </tr>\n",
       "    <tr>\n",
       "      <th>2</th>\n",
       "      <td>2006-11-08</td>\n",
       "      <td>namibian investors buy absa 's</td>\n",
       "      <td>1</td>\n",
       "    </tr>\n",
       "    <tr>\n",
       "      <th>3</th>\n",
       "      <td>2006-11-09</td>\n",
       "      <td>firstrand say law may pare fees</td>\n",
       "      <td>0</td>\n",
       "    </tr>\n",
       "    <tr>\n",
       "      <th>4</th>\n",
       "      <td>2006-11-09</td>\n",
       "      <td>china stocks rise 30 % in #</td>\n",
       "      <td>0</td>\n",
       "    </tr>\n",
       "  </tbody>\n",
       "</table>\n",
       "</div>"
      ],
      "text/plain": [
       "     ari_time                        ari_title  price\n",
       "0  2006-10-27          balda say investor asks      0\n",
       "1  2006-11-01                     ace lift pay      0\n",
       "2  2006-11-08   namibian investors buy absa 's      1\n",
       "3  2006-11-09  firstrand say law may pare fees      0\n",
       "4  2006-11-09      china stocks rise 30 % in #      0"
      ]
     },
     "execution_count": 3,
     "metadata": {},
     "output_type": "execute_result"
    }
   ],
   "source": [
    "train_reduce_df = pd.read_pickle(\"./train_reduce.pkl\")\n",
    "train_reduce_df.head()"
   ]
  },
  {
   "cell_type": "code",
   "execution_count": 12,
   "metadata": {},
   "outputs": [
    {
     "name": "stdout",
     "output_type": "stream",
     "text": [
      "[['balda', 'say', 'investor', 'asks'], ['ace', 'lift', 'pay'], ['namibian', 'investors', 'buy', 'absa'], ['firstrand', 'say', 'law', 'may', 'pare', 'fees'], ['china', 'stocks', 'rise', 'in']]\n",
      "CPU times: user 1.93 s, sys: 8.06 ms, total: 1.94 s\n",
      "Wall time: 1.94 s\n"
     ]
    }
   ],
   "source": [
    "%%time\n",
    "\n",
    "corpus = list(map(simple_preprocess, train_reduce_df['ari_title']))\n",
    "corpus += list(map(simple_preprocess, train_df['ari_title']))\n",
    "# corpus = train_df['ari_title']\n",
    "\n",
    "print(corpus[0:5])"
   ]
  },
  {
   "cell_type": "code",
   "execution_count": 13,
   "metadata": {},
   "outputs": [
    {
     "name": "stdout",
     "output_type": "stream",
     "text": [
      "CPU times: user 18.4 s, sys: 83.9 ms, total: 18.5 s\n",
      "Wall time: 7.08 s\n"
     ]
    }
   ],
   "source": [
    "%%time\n",
    "EMBEDDING_DIM=50\n",
    "\n",
    "model = Word2Vec(corpus, size=EMBEDDING_DIM, iter=10)\n",
    "model.save('word2vec.model')"
   ]
  },
  {
   "cell_type": "code",
   "execution_count": 14,
   "metadata": {},
   "outputs": [
    {
     "name": "stdout",
     "output_type": "stream",
     "text": [
      "Word2Vec(vocab=9393, size=50, alpha=0.025)\n",
      "(55483, 3)\n",
      "660986 28493 19100\n",
      "0.6703400835292879\n"
     ]
    }
   ],
   "source": [
    "# Calculate number of unseen words\n",
    "words = {}\n",
    "word_count = 0\n",
    "unseen_count = 0\n",
    "for wl in corpus:\n",
    "    for word in wl:\n",
    "        word_count += 1\n",
    "        if word in words:\n",
    "            continue\n",
    "        words[word] = True\n",
    "        if word not in model.wv.vocab:\n",
    "            unseen_count += 1            \n",
    "non_repeated_words = len(words)\n",
    "\n",
    "print(model)\n",
    "print(train_df.shape)\n",
    "print(word_count, non_repeated_words, unseen_count)\n",
    "print(unseen_count / non_repeated_words)"
   ]
  },
  {
   "cell_type": "code",
   "execution_count": null,
   "metadata": {},
   "outputs": [],
   "source": []
  }
 ],
 "metadata": {
  "kernelspec": {
   "display_name": "Python 3",
   "language": "python",
   "name": "python3"
  },
  "language_info": {
   "codemirror_mode": {
    "name": "ipython",
    "version": 3
   },
   "file_extension": ".py",
   "mimetype": "text/x-python",
   "name": "python",
   "nbconvert_exporter": "python",
   "pygments_lexer": "ipython3",
   "version": "3.5.2"
  }
 },
 "nbformat": 4,
 "nbformat_minor": 2
}
