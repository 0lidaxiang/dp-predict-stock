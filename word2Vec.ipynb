{
 "cells": [
  {
   "cell_type": "code",
   "execution_count": 3,
   "metadata": {},
   "outputs": [],
   "source": [
    "import pandas as pd\n",
    "from gensim.models.word2vec import Word2Vec"
   ]
  },
  {
   "cell_type": "code",
   "execution_count": 5,
   "metadata": {},
   "outputs": [
    {
     "data": {
      "text/html": [
       "<div>\n",
       "<style scoped>\n",
       "    .dataframe tbody tr th:only-of-type {\n",
       "        vertical-align: middle;\n",
       "    }\n",
       "\n",
       "    .dataframe tbody tr th {\n",
       "        vertical-align: top;\n",
       "    }\n",
       "\n",
       "    .dataframe thead th {\n",
       "        text-align: right;\n",
       "    }\n",
       "</style>\n",
       "<table border=\"1\" class=\"dataframe\">\n",
       "  <thead>\n",
       "    <tr style=\"text-align: right;\">\n",
       "      <th></th>\n",
       "      <th>ari_time</th>\n",
       "      <th>ari_title</th>\n",
       "      <th>price</th>\n",
       "    </tr>\n",
       "  </thead>\n",
       "  <tbody>\n",
       "    <tr>\n",
       "      <th>0</th>\n",
       "      <td>-- 2010-02-05T11:54:40Z</td>\n",
       "      <td>-- Royal Opera House Chief Tony Hall Appointed...</td>\n",
       "      <td>0</td>\n",
       "    </tr>\n",
       "    <tr>\n",
       "      <th>1</th>\n",
       "      <td>-- 2006-12-14T15:12:30Z</td>\n",
       "      <td>-- Vale's Indonesia Nickel Unit May Cut Output...</td>\n",
       "      <td>0</td>\n",
       "    </tr>\n",
       "    <tr>\n",
       "      <th>2</th>\n",
       "      <td>-- 2008-12-29T20:53:34Z</td>\n",
       "      <td>-- 10 Mantras for Emerging Leaders in 2009</td>\n",
       "      <td>0</td>\n",
       "    </tr>\n",
       "    <tr>\n",
       "      <th>3</th>\n",
       "      <td>-- 2008-02-14T04:05:04Z</td>\n",
       "      <td>-- Hewlett-Packard Settles Claim by Reporters ...</td>\n",
       "      <td>0</td>\n",
       "    </tr>\n",
       "    <tr>\n",
       "      <th>4</th>\n",
       "      <td>-- 2008-02-14T21:14:32Z</td>\n",
       "      <td>-- New York's Dinallo Considers Splitting Bond...</td>\n",
       "      <td>0</td>\n",
       "    </tr>\n",
       "  </tbody>\n",
       "</table>\n",
       "</div>"
      ],
      "text/plain": [
       "                  ari_time                                          ari_title  \\\n",
       "0  -- 2010-02-05T11:54:40Z  -- Royal Opera House Chief Tony Hall Appointed...   \n",
       "1  -- 2006-12-14T15:12:30Z  -- Vale's Indonesia Nickel Unit May Cut Output...   \n",
       "2  -- 2008-12-29T20:53:34Z         -- 10 Mantras for Emerging Leaders in 2009   \n",
       "3  -- 2008-02-14T04:05:04Z  -- Hewlett-Packard Settles Claim by Reporters ...   \n",
       "4  -- 2008-02-14T21:14:32Z  -- New York's Dinallo Considers Splitting Bond...   \n",
       "\n",
       "   price  \n",
       "0      0  \n",
       "1      0  \n",
       "2      0  \n",
       "3      0  \n",
       "4      0  "
      ]
     },
     "execution_count": 5,
     "metadata": {},
     "output_type": "execute_result"
    }
   ],
   "source": [
    "train_df = pd.read_pickle(\".//train.pkl\")\n",
    "# test_df = pd.read_pickle(\"../input/hw2pkl/test.pkl\")\n",
    "train_df.head()"
   ]
  },
  {
   "cell_type": "code",
   "execution_count": 9,
   "metadata": {},
   "outputs": [
    {
     "data": {
      "text/plain": [
       "60502    -- Banca Popolare di Milano Says It Doesn't Ne...\n",
       "34484    -- Goldman Sachs-Backed Emissions Exchange Is ...\n",
       "36918    -- Barclays Hires Goldman's Koo, BNP's Lim to ...\n",
       "52073    -- Apax, Guardian Studying $3.2 Billion Sale o...\n",
       "29067    -- Mexican Tortillas Assure Carstens Lending R...\n",
       "dtype: object"
      ]
     },
     "execution_count": 9,
     "metadata": {},
     "output_type": "execute_result"
    }
   ],
   "source": [
    "corpus = pd.concat([train_df.ari_time, train_df.ari_title]).sample(frac=1)\n",
    "corpus.head()"
   ]
  },
  {
   "cell_type": "code",
   "execution_count": 11,
   "metadata": {},
   "outputs": [
    {
     "name": "stdout",
     "output_type": "stream",
     "text": [
      "CPU times: user 1min 11s, sys: 321 ms, total: 1min 11s\n",
      "Wall time: 26.3 s\n"
     ]
    }
   ],
   "source": [
    "%%time\n",
    "# CPU times: user 1min 11s\n",
    "model = Word2Vec(corpus, size=250, iter=10)\n",
    "model.save('word2vec.model')\n",
    "# model = Word2Vec.load('word2vec.model')"
   ]
  }
 ],
 "metadata": {
  "kernelspec": {
   "display_name": "Python 3",
   "language": "python",
   "name": "python3"
  },
  "language_info": {
   "codemirror_mode": {
    "name": "ipython",
    "version": 3
   },
   "file_extension": ".py",
   "mimetype": "text/x-python",
   "name": "python",
   "nbconvert_exporter": "python",
   "pygments_lexer": "ipython3",
   "version": "3.6.5"
  }
 },
 "nbformat": 4,
 "nbformat_minor": 2
}
