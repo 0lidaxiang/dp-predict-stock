{
 "cells": [
  {
   "cell_type": "code",
   "execution_count": 1,
   "metadata": {
    "scrolled": true
   },
   "outputs": [],
   "source": [
    "import pandas as pd\n",
    "from gensim.models.word2vec import Word2Vec"
   ]
  },
  {
   "cell_type": "code",
   "execution_count": 7,
   "metadata": {},
   "outputs": [
    {
     "data": {
      "text/html": [
       "<div>\n",
       "<style scoped>\n",
       "    .dataframe tbody tr th:only-of-type {\n",
       "        vertical-align: middle;\n",
       "    }\n",
       "\n",
       "    .dataframe tbody tr th {\n",
       "        vertical-align: top;\n",
       "    }\n",
       "\n",
       "    .dataframe thead th {\n",
       "        text-align: right;\n",
       "    }\n",
       "</style>\n",
       "<table border=\"1\" class=\"dataframe\">\n",
       "  <thead>\n",
       "    <tr style=\"text-align: right;\">\n",
       "      <th></th>\n",
       "      <th>ari_time</th>\n",
       "      <th>ari_title</th>\n",
       "      <th>price</th>\n",
       "    </tr>\n",
       "  </thead>\n",
       "  <tbody>\n",
       "    <tr>\n",
       "      <th>0</th>\n",
       "      <td>2006-10-27</td>\n",
       "      <td>balda say investor asks</td>\n",
       "      <td>0</td>\n",
       "    </tr>\n",
       "    <tr>\n",
       "      <th>1</th>\n",
       "      <td>2006-11-01</td>\n",
       "      <td>ace lift pay</td>\n",
       "      <td>0</td>\n",
       "    </tr>\n",
       "    <tr>\n",
       "      <th>2</th>\n",
       "      <td>2006-11-08</td>\n",
       "      <td>namibian investors buy absa 's</td>\n",
       "      <td>1</td>\n",
       "    </tr>\n",
       "    <tr>\n",
       "      <th>3</th>\n",
       "      <td>2006-11-09</td>\n",
       "      <td>firstrand say law may pare fees</td>\n",
       "      <td>0</td>\n",
       "    </tr>\n",
       "    <tr>\n",
       "      <th>4</th>\n",
       "      <td>2006-11-09</td>\n",
       "      <td>china stocks rise 30 % in #</td>\n",
       "      <td>0</td>\n",
       "    </tr>\n",
       "  </tbody>\n",
       "</table>\n",
       "</div>"
      ],
      "text/plain": [
       "     ari_time                        ari_title  price\n",
       "0  2006-10-27          balda say investor asks      0\n",
       "1  2006-11-01                     ace lift pay      0\n",
       "2  2006-11-08   namibian investors buy absa 's      1\n",
       "3  2006-11-09  firstrand say law may pare fees      0\n",
       "4  2006-11-09      china stocks rise 30 % in #      0"
      ]
     },
     "execution_count": 7,
     "metadata": {},
     "output_type": "execute_result"
    }
   ],
   "source": [
    "train_df = pd.read_pickle(\"./train_reduce.pkl\")\n",
    "# test_df = pd.read_pickle(\"../input/hw2pkl/test.pkl\")\n",
    "train_df.head()"
   ]
  },
  {
   "cell_type": "code",
   "execution_count": 10,
   "metadata": {},
   "outputs": [
    {
     "name": "stdout",
     "output_type": "stream",
     "text": [
      "0                                               2006-10-27\n",
      "1                                               2006-11-01\n",
      "2                                               2006-11-08\n",
      "3                                               2006-11-09\n",
      "4                                               2006-11-09\n",
      "5                                               2006-11-16\n",
      "6                                               2006-11-22\n",
      "7                                               2006-11-22\n",
      "8                                               2006-11-29\n",
      "9                                               2006-12-11\n",
      "10                                              2006-12-11\n",
      "11                                              2006-12-12\n",
      "12                                              2006-12-14\n",
      "13                                              2006-12-18\n",
      "14                                              2006-12-19\n",
      "15                                              2007-01-10\n",
      "16                                              2007-01-10\n",
      "17                                              2007-01-11\n",
      "18                                              2007-01-11\n",
      "19                                              2007-01-18\n",
      "20                                              2007-01-22\n",
      "21                                              2007-01-23\n",
      "22                                              2007-01-24\n",
      "23                                              2007-01-29\n",
      "24                                              2007-01-30\n",
      "25                                              2007-01-31\n",
      "26                                              2007-01-31\n",
      "27                                              2007-02-06\n",
      "28                                              2007-02-07\n",
      "29                                              2007-02-12\n",
      "                               ...                        \n",
      "13891                  aquino say hong kong hijack inquiry\n",
      "13892                                       eni seek $ # #\n",
      "13893           airlines say most storm-stranded travelers\n",
      "13894         4,000-megawatt orissa project end of january\n",
      "13895                               u.s. futures be little\n",
      "13896              u.k. mid-sized companies find financing\n",
      "13897                        financing be easier to obtain\n",
      "13898                     citigroup be on dudley 's agenda\n",
      "13899                   u.s. stock funds see weekly inflow\n",
      "13900     tesla say electric car battery plan means profit\n",
      "13901                     brett favre fail concussion test\n",
      "13902                      khawaja have cricket test debut\n",
      "13903       ex-primary global consultant jiau get $ # bail\n",
      "13904                                     aig be preparing\n",
      "13905                          sanchez start against bills\n",
      "13906                                  tottenham lead race\n",
      "13907    dollar weaken as global economic recovery sign...\n",
      "13908    indonesia achieve sustainable economic growth ...\n",
      "13909    serb prosecutors say modigliani painting may f...\n",
      "13910                      qatar navigation unit get $ # #\n",
      "13911    raw sugar prices advance on global supply concern\n",
      "13912                          toshiba want tokyo electric\n",
      "13913    north welsh conwy region post largest u.k. hou...\n",
      "13914                             cameron say job creation\n",
      "13915            job creation be focus for u.k. 's economy\n",
      "13916    india winter oilseed output gain as high price...\n",
      "13917                          quotas be to increase women\n",
      "13918                                japan ease visa rules\n",
      "13919    euro imbalances mean # % risk bloc see structu...\n",
      "13920                             # be the boss’s business\n",
      "Length: 27842, dtype: object\n"
     ]
    },
    {
     "data": {
      "text/plain": [
       "0    2006-10-27\n",
       "1    2006-11-01\n",
       "2    2006-11-08\n",
       "3    2006-11-09\n",
       "4    2006-11-09\n",
       "dtype: object"
      ]
     },
     "execution_count": 10,
     "metadata": {},
     "output_type": "execute_result"
    }
   ],
   "source": [
    "corpus = pd.concat([train_df.ari_time, train_df.ari_title])\n",
    "print(corpus)\n",
    "# corpus = pd.concat([train_df.ari_time, train_df.ari_title]).sample(frac=1)\n",
    "corpus.head()"
   ]
  },
  {
   "cell_type": "code",
   "execution_count": 4,
   "metadata": {},
   "outputs": [
    {
     "name": "stdout",
     "output_type": "stream",
     "text": [
      "CPU times: user 4.9 s, sys: 68.7 ms, total: 4.97 s\n",
      "Wall time: 2.46 s\n"
     ]
    }
   ],
   "source": [
    "%%time\n",
    "# CPU times: user 1min 11s\n",
    "model = Word2Vec(corpus, size=50, iter=10)\n",
    "model.save('word2vec.model')"
   ]
  },
  {
   "cell_type": "code",
   "execution_count": null,
   "metadata": {},
   "outputs": [],
   "source": []
  }
 ],
 "metadata": {
  "kernelspec": {
   "display_name": "Python 3",
   "language": "python",
   "name": "python3"
  },
  "language_info": {
   "codemirror_mode": {
    "name": "ipython",
    "version": 3
   },
   "file_extension": ".py",
   "mimetype": "text/x-python",
   "name": "python",
   "nbconvert_exporter": "python",
   "pygments_lexer": "ipython3",
   "version": "3.5.2"
  }
 },
 "nbformat": 4,
 "nbformat_minor": 2
}
