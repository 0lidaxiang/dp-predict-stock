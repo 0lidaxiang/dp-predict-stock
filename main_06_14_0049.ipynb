{
 "cells": [
  {
   "cell_type": "code",
   "execution_count": 1,
   "metadata": {},
   "outputs": [
    {
     "name": "stderr",
     "output_type": "stream",
     "text": [
      "Using TensorFlow backend.\n"
     ]
    }
   ],
   "source": [
    "# coding: utf-8\n",
    "import time\n",
    "import os\n",
    "import numpy as np\n",
    "import keras\n",
    "from keras import metrics\n",
    "from keras.utils import to_categorical\n",
    "from keras.models import load_model\n",
    "from keras.preprocessing.text import Tokenizer\n",
    "from keras.preprocessing.sequence import pad_sequences\n",
    "\n",
    "from keras.models import Sequential\n",
    "from keras.layers import Dense, Input, Dropout, Flatten, Reshape, Concatenate\n",
    "from keras.layers import Conv2D, Conv1D, MaxPooling1D, MaxPooling2D,Activation\n",
    "from keras.layers import SimpleRNN, GRU,Activation, LSTM\n",
    "\n",
    "from keras.layers.embeddings import Embedding\n",
    "from datetime import datetime\n",
    "from gensim.models import word2vec\n",
    "from collections import *\n",
    "import pandas as pd\n",
    "import matplotlib.pyplot as plt"
   ]
  },
  {
   "cell_type": "code",
   "execution_count": 2,
   "metadata": {},
   "outputs": [],
   "source": [
    "def text_to_index(corpus):\n",
    "    new_corpus = []\n",
    "    for doc in corpus:\n",
    "        new_doc = []\n",
    "        for word in doc:\n",
    "            try:\n",
    "                new_doc.append(word2idx[word])\n",
    "            except:\n",
    "                new_doc.append(0)\n",
    "#         new_doc_arr = np.array(new_doc).reshape(1, max_doc_word_length)\n",
    "        new_doc_arr = np.array(new_doc)\n",
    "        new_corpus.append( new_doc_arr)\n",
    "    return np.array(new_corpus)"
   ]
  },
  {
   "cell_type": "code",
   "execution_count": 3,
   "metadata": {},
   "outputs": [],
   "source": [
    "# get data\n",
    "# get texts data\n",
    "category2idx = {'AllTogether': 0, 'Baseball': 1, 'Boy-Girl': 2, 'C_chat':  3, 'CVS': 4,\n",
    "                  'GameSale': 5, 'GetMarry': 6, 'Lifeismoney': 7, 'LoL': 8, 'MH': 9, 'MLB': 10, 'Mobilecomm': 11, \n",
    "                'movie': 12,'MuscleBeach':  13, 'NBA': 14,  'SENIORHIGH': 15, 'Stock': 16, \n",
    "                'Tennis': 17, 'Tos': 18, 'WomenTalk': 19}\n",
    "\n",
    "train_df_sample = pd.read_pickle('train_reduce.pkl').sample(frac=1, random_state=123)\n",
    "train_texts = train_df_sample.ari_title\n",
    "label_list = train_df_sample.price\n",
    "\n",
    "test_pickle_df = pd.read_pickle('train_reduce.pkl')\n",
    "test_texts = test_pickle_df[\"ari_title\"].values\n",
    "\n",
    "train_texts_list = []\n",
    "for text in train_texts:\n",
    "    train_texts_list.append(text[0])\n",
    "    \n",
    "texts_list = []\n",
    "for text in train_texts_list:\n",
    "    texts_list.append(text)\n",
    "    \n",
    "for text in test_texts:\n",
    "    texts_list.append(text)"
   ]
  },
  {
   "cell_type": "code",
   "execution_count": 4,
   "metadata": {},
   "outputs": [],
   "source": [
    "# get word embedding vector\n",
    "answer = word2vec.Word2Vec.load(\"word2vec.model\")\n",
    "word_vectors = answer.wv\n",
    "wvv = word_vectors.vocab\n",
    "wvv_keys = wvv.keys()\n",
    "wvv_keys_list = list(wvv_keys)\n",
    "\n",
    "vocab_num = len(wvv.items()) + 1\n",
    "\n",
    "vocab_list = [(word, word_vectors[word]) for word, _ in wvv.items()]"
   ]
  },
  {
   "cell_type": "code",
   "execution_count": 5,
   "metadata": {},
   "outputs": [],
   "source": [
    "del word_vectors, wvv, train_texts_list, answer"
   ]
  },
  {
   "cell_type": "code",
   "execution_count": 6,
   "metadata": {},
   "outputs": [],
   "source": [
    "word_vec_len = 50\n",
    "embedding_matrix = np.zeros((vocab_num , word_vec_len))\n",
    "word2idx = {}\n",
    "\n",
    "for i, vocab in enumerate(vocab_list):\n",
    "    word, vec = vocab\n",
    "    embedding_matrix[i + 1] = vec\n",
    "    word2idx[word] = i + 1"
   ]
  },
  {
   "cell_type": "code",
   "execution_count": 7,
   "metadata": {},
   "outputs": [
    {
     "data": {
      "text/plain": [
       "(46, 50)"
      ]
     },
     "execution_count": 7,
     "metadata": {},
     "output_type": "execute_result"
    }
   ],
   "source": [
    "embedding_matrix.shape"
   ]
  },
  {
   "cell_type": "code",
   "execution_count": 34,
   "metadata": {},
   "outputs": [
    {
     "name": "stdout",
     "output_type": "stream",
     "text": [
      "_________________________________________________________________\n",
      "Layer (type)                 Output Shape              Param #   \n",
      "=================================================================\n",
      "embedding_3 (Embedding)      (None, 200, 50)           2300      \n",
      "_________________________________________________________________\n",
      "lstm_3 (LSTM)                (None, 16)                4288      \n",
      "_________________________________________________________________\n",
      "dense_7 (Dense)              (None, 40)                680       \n",
      "_________________________________________________________________\n",
      "dense_8 (Dense)              (None, 20)                820       \n",
      "_________________________________________________________________\n",
      "dense_9 (Dense)              (None, 1)                 21        \n",
      "=================================================================\n",
      "Total params: 8,109\n",
      "Trainable params: 5,809\n",
      "Non-trainable params: 2,300\n",
      "_________________________________________________________________\n"
     ]
    }
   ],
   "source": [
    "embedding_layer = Embedding( input_dim= embedding_matrix.shape[0],output_dim= 50, weights=[embedding_matrix], \n",
    "                            input_length = 200,trainable=False)\n",
    "\n",
    "model = Sequential()\n",
    "model.add(embedding_layer)\n",
    "model.add(LSTM(16))    \n",
    "model.add(Dense(40, activation='relu'))\n",
    "model.add(Dense(20, activation='relu'))\n",
    "\n",
    "model.add(Dense(1, activation='sigmoid'))\n",
    "model.compile(loss='binary_crossentropy', optimizer='adam', metrics=['accuracy'])\n",
    "\n",
    "model.summary()"
   ]
  },
  {
   "cell_type": "code",
   "execution_count": 35,
   "metadata": {},
   "outputs": [
    {
     "name": "stdout",
     "output_type": "stream",
     "text": [
      "(13154,)\n",
      "6577\n",
      "(6577, 1)\n"
     ]
    }
   ],
   "source": [
    "max_doc_word_length = 200\n",
    "\n",
    "x_trains_texts = train_df_sample.ari_title.append(test_pickle_df.ari_title)\n",
    "X_train_texts = text_to_index(x_trains_texts)\n",
    "X_train = pad_sequences(X_train_texts, maxlen= max_doc_word_length)\n",
    "\n",
    "print(x_trains_texts.shape)\n",
    "print(len(label_list))\n",
    "\n",
    "Y_label_list = np.zeros((6577, 1))\n",
    "for ids in range(0, 6577):\n",
    "    Y_label_list[ids]  = label_list[ids] \n",
    "print(Y_label_list.shape)"
   ]
  },
  {
   "cell_type": "code",
   "execution_count": 36,
   "metadata": {},
   "outputs": [
    {
     "name": "stdout",
     "output_type": "stream",
     "text": [
      "Epoch 1/50\n",
      "6377/6377 [==============================] - 9s 1ms/step - loss: 0.6914 - acc: 0.5335\n",
      "Epoch 2/50\n",
      "6377/6377 [==============================] - 8s 1ms/step - loss: 0.6904 - acc: 0.5358\n",
      "Epoch 3/50\n",
      "6377/6377 [==============================] - 8s 1ms/step - loss: 0.6902 - acc: 0.5346\n",
      "Epoch 4/50\n",
      "6377/6377 [==============================] - 8s 1ms/step - loss: 0.6899 - acc: 0.5360\n",
      "Epoch 5/50\n",
      "6377/6377 [==============================] - 8s 1ms/step - loss: 0.6901 - acc: 0.5332\n",
      "Epoch 6/50\n",
      "6377/6377 [==============================] - 8s 1ms/step - loss: 0.6894 - acc: 0.5336\n",
      "Epoch 7/50\n",
      "6377/6377 [==============================] - 8s 1ms/step - loss: 0.6893 - acc: 0.5332\n",
      "Epoch 8/50\n",
      "6377/6377 [==============================] - 7s 1ms/step - loss: 0.6893 - acc: 0.5380\n",
      "Epoch 9/50\n",
      "6377/6377 [==============================] - 7s 1ms/step - loss: 0.6888 - acc: 0.5424\n",
      "Epoch 10/50\n",
      "6377/6377 [==============================] - 8s 1ms/step - loss: 0.6885 - acc: 0.5319\n",
      "Epoch 11/50\n",
      "6377/6377 [==============================] - 8s 1ms/step - loss: 0.6886 - acc: 0.5352\n",
      "Epoch 12/50\n",
      "6377/6377 [==============================] - 8s 1ms/step - loss: 0.6872 - acc: 0.5471\n",
      "Epoch 13/50\n",
      "6377/6377 [==============================] - 8s 1ms/step - loss: 0.6874 - acc: 0.5421\n",
      "Epoch 14/50\n",
      "6377/6377 [==============================] - 7s 1ms/step - loss: 0.6868 - acc: 0.5434\n",
      "Epoch 15/50\n",
      "6377/6377 [==============================] - 7s 1ms/step - loss: 0.6859 - acc: 0.5495\n",
      "Epoch 16/50\n",
      "6377/6377 [==============================] - 8s 1ms/step - loss: 0.6852 - acc: 0.5507\n",
      "Epoch 17/50\n",
      "6377/6377 [==============================] - 8s 1ms/step - loss: 0.6851 - acc: 0.5479\n",
      "Epoch 18/50\n",
      "6377/6377 [==============================] - 7s 1ms/step - loss: 0.6835 - acc: 0.5493\n",
      "Epoch 19/50\n",
      "6377/6377 [==============================] - 8s 1ms/step - loss: 0.6832 - acc: 0.5546\n",
      "Epoch 20/50\n",
      "6377/6377 [==============================] - 7s 1ms/step - loss: 0.6820 - acc: 0.5557\n",
      "Epoch 21/50\n",
      "6377/6377 [==============================] - 7s 1ms/step - loss: 0.6822 - acc: 0.5619\n",
      "Epoch 22/50\n",
      "6377/6377 [==============================] - 8s 1ms/step - loss: 0.6799 - acc: 0.5614\n",
      "Epoch 23/50\n",
      "6377/6377 [==============================] - 8s 1ms/step - loss: 0.6803 - acc: 0.5612\n",
      "Epoch 24/50\n",
      "6377/6377 [==============================] - 7s 1ms/step - loss: 0.6772 - acc: 0.5705\n",
      "Epoch 25/50\n",
      "6377/6377 [==============================] - 8s 1ms/step - loss: 0.6762 - acc: 0.5677\n",
      "Epoch 26/50\n",
      "6377/6377 [==============================] - 7s 1ms/step - loss: 0.6747 - acc: 0.5736\n",
      "Epoch 27/50\n",
      "6377/6377 [==============================] - 8s 1ms/step - loss: 0.6772 - acc: 0.5653\n",
      "Epoch 28/50\n",
      "6377/6377 [==============================] - 7s 1ms/step - loss: 0.6734 - acc: 0.5785\n",
      "Epoch 29/50\n",
      "6377/6377 [==============================] - 7s 1ms/step - loss: 0.6704 - acc: 0.5824\n",
      "Epoch 30/50\n",
      "6377/6377 [==============================] - 8s 1ms/step - loss: 0.6672 - acc: 0.5884\n",
      "Epoch 31/50\n",
      "6377/6377 [==============================] - 7s 1ms/step - loss: 0.6675 - acc: 0.5881\n",
      "Epoch 32/50\n",
      "6377/6377 [==============================] - 7s 1ms/step - loss: 0.6652 - acc: 0.5876\n",
      "Epoch 33/50\n",
      "6377/6377 [==============================] - 7s 1ms/step - loss: 0.6661 - acc: 0.5971\n",
      "Epoch 34/50\n",
      "6377/6377 [==============================] - 7s 1ms/step - loss: 0.6603 - acc: 0.5997\n",
      "Epoch 35/50\n",
      "6377/6377 [==============================] - 7s 1ms/step - loss: 0.6569 - acc: 0.6059\n",
      "Epoch 36/50\n",
      "6377/6377 [==============================] - 8s 1ms/step - loss: 0.6583 - acc: 0.6029\n",
      "Epoch 37/50\n",
      "6377/6377 [==============================] - 8s 1ms/step - loss: 0.6524 - acc: 0.6094\n",
      "Epoch 38/50\n",
      "6377/6377 [==============================] - 8s 1ms/step - loss: 0.6532 - acc: 0.6122\n",
      "Epoch 39/50\n",
      "6377/6377 [==============================] - 8s 1ms/step - loss: 0.6490 - acc: 0.6161\n",
      "Epoch 40/50\n",
      "6377/6377 [==============================] - 9s 1ms/step - loss: 0.6452 - acc: 0.6185\n",
      "Epoch 41/50\n",
      "6377/6377 [==============================] - 8s 1ms/step - loss: 0.6446 - acc: 0.6182\n",
      "Epoch 42/50\n",
      "6377/6377 [==============================] - 8s 1ms/step - loss: 0.6429 - acc: 0.6200\n",
      "Epoch 43/50\n",
      "6377/6377 [==============================] - 8s 1ms/step - loss: 0.6386 - acc: 0.6332\n",
      "Epoch 44/50\n",
      "6377/6377 [==============================] - 8s 1ms/step - loss: 0.6378 - acc: 0.6268\n",
      "Epoch 45/50\n",
      "6377/6377 [==============================] - 8s 1ms/step - loss: 0.6371 - acc: 0.6326\n",
      "Epoch 46/50\n",
      "6377/6377 [==============================] - 8s 1ms/step - loss: 0.6304 - acc: 0.6409\n",
      "Epoch 47/50\n",
      "6377/6377 [==============================] - 9s 1ms/step - loss: 0.6254 - acc: 0.6475\n",
      "Epoch 48/50\n",
      "6377/6377 [==============================] - 9s 1ms/step - loss: 0.6241 - acc: 0.6451\n",
      "Epoch 49/50\n",
      "6377/6377 [==============================] - 9s 1ms/step - loss: 0.6215 - acc: 0.6514\n",
      "Epoch 50/50\n",
      "6377/6377 [==============================] - 8s 1ms/step - loss: 0.6206 - acc: 0.6560\n"
     ]
    }
   ],
   "source": [
    "epochs_num = 50\n",
    "history = model.fit(x = X_train[0:6377], y = Y_label_list[0:6377],  \n",
    "                    batch_size= 100,  epochs = 50, verbose = 1)"
   ]
  },
  {
   "cell_type": "code",
   "execution_count": 37,
   "metadata": {},
   "outputs": [
    {
     "name": "stdout",
     "output_type": "stream",
     "text": [
      "accuracy 準確度: \n"
     ]
    },
    {
     "data": {
      "image/png": "[encoded data removed]",
      "text/plain": [
       "<Figure size 432x288 with 1 Axes>"
      ]
     },
     "metadata": {},
     "output_type": "display_data"
    },
    {
     "name": "stdout",
     "output_type": "stream",
     "text": [
      "loss 損失函數: \n"
     ]
    },
    {
     "data": {
      "image/png": "[encoded data removed]",
      "text/plain": [
       "<Figure size 432x288 with 1 Axes>"
      ]
     },
     "metadata": {},
     "output_type": "display_data"
    }
   ],
   "source": [
    "np_loss_history = np.array(history.history['loss'])\n",
    "np.savetxt(\"loss_history.txt\", np_loss_history, delimiter=\",\")\n",
    "loss_history = np.loadtxt(\"loss_history.txt\")\n",
    "\n",
    "np_acc_history = np.array(history.history['acc'])\n",
    "np.savetxt(\"acc_history.txt\", np_acc_history, delimiter=\",\")\n",
    "acc_history = np.loadtxt(\"acc_history.txt\")\n",
    "\n",
    "print(\"accuracy 準確度: \")\n",
    "fig = plt.figure(1)\n",
    "ax = plt.axes()\n",
    "x = np.linspace(0, epochs_num, acc_history.shape[0])\n",
    "plt.plot(x, acc_history, '-r');  # dotted red\n",
    "plt.show()\n",
    "\n",
    "\n",
    "print(\"loss 損失函數: \")\n",
    "fig = plt.figure(2)\n",
    "ax = plt.axes()\n",
    "x = np.linspace(0, epochs_num, loss_history.shape[0])\n",
    "plt.plot(x, loss_history, '-g');  # dotted red\n",
    "plt.show()"
   ]
  },
  {
   "cell_type": "code",
   "execution_count": 22,
   "metadata": {},
   "outputs": [],
   "source": [
    "# model.save('my_model.h5') "
   ]
  },
  {
   "cell_type": "code",
   "execution_count": 23,
   "metadata": {},
   "outputs": [
    {
     "name": "stdout",
     "output_type": "stream",
     "text": [
      "100/100 [==============================] - 0s 2ms/step\n",
      "<class 'list'> [0.6601113390922546, 0.6]\n"
     ]
    }
   ],
   "source": [
    "# evaluate the model\n",
    "loss_accuracy = model.evaluate(X_train[0:100], Y_label_list[0:100], verbose=1)\n",
    "print(type(loss_accuracy), loss_accuracy)\n",
    "\n",
    "test_sequences1 = X_train[6377:6577]\n",
    "\n",
    "predict_res = model.predict(test_sequences1, batch_size= 1, verbose=0)\n",
    "\n",
    "# final_res = []\n",
    "# for pre_res in predict_res:\n",
    "#     final_res.append(pre_res)\n",
    "# print(predict_res[0:20])"
   ]
  },
  {
   "cell_type": "code",
   "execution_count": 24,
   "metadata": {},
   "outputs": [
    {
     "name": "stdout",
     "output_type": "stream",
     "text": [
      "0.64   1\n",
      "0.38   0\n",
      "0.64   1\n",
      "0.47   0\n",
      "0.52   1\n",
      "0.68   1\n",
      "0.54   1\n",
      "0.66   1\n",
      "0.63   1\n",
      "0.59   1\n"
     ]
    }
   ],
   "source": [
    "# 格式化輸出結果成 1 和 0\n",
    "# 預測結果小於0.5的保存爲0,表示判斷爲會下跌。否則表示上漲或有限小數位的不變。\n",
    "final_res = []\n",
    "for value in predict_res:\n",
    "    final_res.append(int(round(value[0])))\n",
    "\n",
    "RIGHT_INDEX= 10\n",
    "for pv,fv in zip(predict_res[0:RIGHT_INDEX], final_res[0:RIGHT_INDEX]):\n",
    "    print( repr(pv[0]).ljust(15)[:4] , repr(fv).rjust(3)) \n",
    "\n",
    "# print(final_res[:20])"
   ]
  },
  {
   "cell_type": "code",
   "execution_count": 25,
   "metadata": {},
   "outputs": [
    {
     "name": "stdout",
     "output_type": "stream",
     "text": [
      "預測準確率爲：  0.62\n"
     ]
    }
   ],
   "source": [
    "# 和真實的股票指數的變化比較，輸出預測的準確率\n",
    "x1 = final_res[100:]\n",
    "x2 = []\n",
    "for val in Y_label_list[6477:]:\n",
    "    x2.append(val[0])\n",
    "\n",
    "acc_i = 0\n",
    "for v1,v2 in zip(x1, x2):\n",
    "    compare_res = (v1 == v2)\n",
    "#     print(compare_res)\n",
    "    if compare_res:\n",
    "        acc_i += 1\n",
    "print(\"預測準確率爲： \", acc_i / len(x1))"
   ]
  },
  {
   "cell_type": "code",
   "execution_count": 32,
   "metadata": {},
   "outputs": [
    {
     "name": "stdout",
     "output_type": "stream",
     "text": [
      "random 1 準確率爲：  0.3\n",
      "random 2 準確率爲：  0.6\n",
      "random 3 準確率爲：  0.4\n"
     ]
    }
   ],
   "source": [
    "pre_ress = np.random.randint(2, size=10)\n",
    "acc_j = 0\n",
    "# print(pre_ress)\n",
    "for v1,v2 in zip(pre_ress, x2):\n",
    "    compare_res = (v1 == v2)\n",
    "#     print(compare_res)\n",
    "    if compare_res:\n",
    "        acc_j += 1\n",
    "print(\"random 1 準確率爲： \", acc_j / len(pre_ress))\n",
    "\n",
    "pre_ress = np.random.randint(2, size=10)\n",
    "acc_j = 0\n",
    "# print(pre_ress)\n",
    "for v1,v2 in zip(pre_ress, x2):\n",
    "    compare_res = (v1 == v2)\n",
    "#     print(compare_res)\n",
    "    if compare_res:\n",
    "        acc_j += 1\n",
    "print(\"random 2 準確率爲： \", acc_j / len(pre_ress))\n",
    "\n",
    "pre_ress = np.random.randint(2, size=10)\n",
    "acc_j = 0\n",
    "# print(pre_ress)\n",
    "for v1,v2 in zip(pre_ress, x2):\n",
    "    compare_res = (v1 == v2)\n",
    "#     print(compare_res)\n",
    "    if compare_res:\n",
    "        acc_j += 1\n",
    "print(\"random 3 準確率爲： \", acc_j / len(pre_ress))\n",
    "# print(type(x1), type(x2), x2)"
   ]
  },
  {
   "cell_type": "code",
   "execution_count": 27,
   "metadata": {},
   "outputs": [],
   "source": [
    "# # result_txt = \"result\" + str(datetime.now()).split()[1] + \".txt\"\n",
    "# print(len(final_res))\n",
    "# result_txt = \"local_result001\" + \".txt\"\n",
    "# ids = 0\n",
    "# with open(result_txt, 'w') as out:\n",
    "#     out.write(\"id,pre_price\" + '\\n')\n",
    "#     for value in final_res:\n",
    "#         out.write(str(ids) + \",\" + str(int (round(value[0]))) + \",\" + str(int (round(value[0]))) + '\\n')\n",
    "#         ids += 1"
   ]
  }
 ],
 "metadata": {
  "kernelspec": {
   "display_name": "Python 3",
   "language": "python",
   "name": "python3"
  },
  "language_info": {
   "codemirror_mode": {
    "name": "ipython",
    "version": 3
   },
   "file_extension": ".py",
   "mimetype": "text/x-python",
   "name": "python",
   "nbconvert_exporter": "python",
   "pygments_lexer": "ipython3",
   "version": "3.6.5"
  }
 },
 "nbformat": 4,
 "nbformat_minor": 2
}
