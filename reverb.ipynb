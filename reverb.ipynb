{
 "cells": [
  {
   "cell_type": "code",
   "execution_count": 1,
   "metadata": {},
   "outputs": [],
   "source": [
    "#!/usr/bin/python3\n",
    "import os\n",
    "import pandas as pd\n",
    "import requests\n",
    "from datetime import datetime\n",
    "import json\n",
    "import re\n",
    "import subprocess"
   ]
  },
  {
   "cell_type": "code",
   "execution_count": 2,
   "metadata": {},
   "outputs": [],
   "source": [
    "# 用于显示 for 循环执行进度的 function \n",
    "def log_progress(sequence, every=None, size=None, name='Items'):\n",
    "    from ipywidgets import IntProgress, HTML, VBox\n",
    "    from IPython.display import display\n",
    "\n",
    "    is_iterator = False\n",
    "    if size is None:\n",
    "        try:\n",
    "            size = len(sequence)\n",
    "        except TypeError:\n",
    "            is_iterator = True\n",
    "    if size is not None:\n",
    "        if every is None:\n",
    "            if size <= 200:\n",
    "                every = 1\n",
    "            else:\n",
    "                every = int(size / 200)     # every 0.5%\n",
    "    else:\n",
    "        assert every is not None, 'sequence is iterator, set every'\n",
    "\n",
    "    if is_iterator:\n",
    "        progress = IntProgress(min=0, max=1, value=1)\n",
    "        progress.bar_style = 'info'\n",
    "    else:\n",
    "        progress = IntProgress(min=0, max=size, value=0)\n",
    "    label = HTML()\n",
    "    box = VBox(children=[label, progress])\n",
    "    display(box)\n",
    "\n",
    "    index = 0\n",
    "    try:\n",
    "        for index, record in enumerate(sequence, 1):\n",
    "            if index == 1 or index % every == 0:\n",
    "                if is_iterator:\n",
    "                    label.value = '{name}: {index} / ?'.format(\n",
    "                        name=name,\n",
    "                        index=index\n",
    "                    )\n",
    "                else:\n",
    "                    progress.value = index\n",
    "                    label.value = u'{name}: {index} / {size}'.format(\n",
    "                        name=name,\n",
    "                        index=index,\n",
    "                        size=size\n",
    "                    )\n",
    "            yield record\n",
    "    except:\n",
    "        progress.bar_style = 'danger'\n",
    "        raise\n",
    "    else:\n",
    "        progress.bar_style = 'success'\n",
    "        progress.value = index\n",
    "        label.value = \"{name}: {index}\".format(\n",
    "            name=name,\n",
    "            index=str(index or '?')\n",
    "        )"
   ]
  },
  {
   "cell_type": "code",
   "execution_count": 3,
   "metadata": {},
   "outputs": [
    {
     "name": "stdout",
     "output_type": "stream",
     "text": [
      "CPU times: user 5 µs, sys: 2 µs, total: 7 µs\n",
      "Wall time: 12.2 µs\n",
      "(55483, 3) <class 'pandas.core.frame.DataFrame'>\n",
      "                ari_time                                          ari_title  \\\n",
      "15  2006-10-30T22:48:25Z   Amerigroup Defrauded U.S., Must Pay $144 Million   \n",
      "16  2006-11-01T13:45:11Z  Comstar to Spend $300 Million on Regional Purc...   \n",
      "17  2006-11-01T16:28:21Z  Russian Stocks Gain the Most in Three Weeks; L...   \n",
      "18  2006-11-01T21:19:28Z  ACE Must Lift Pay for Air Canada Pilots, Jazz ...   \n",
      "19  2006-11-02T05:27:24Z  Coles Myer Raises Performance Targets for Bonuses   \n",
      "\n",
      "    price  \n",
      "15      1  \n",
      "16      0  \n",
      "17      0  \n",
      "18      0  \n",
      "19      0  \n"
     ]
    }
   ],
   "source": [
    "%time\n",
    "pickle_df = pd.read_pickle('train.pkl')\n",
    "\n",
    "print(pickle_df.shape, type(pickle_df))\n",
    "print(pickle_df[15:20])"
   ]
  },
  {
   "cell_type": "code",
   "execution_count": 4,
   "metadata": {},
   "outputs": [
    {
     "name": "stdout",
     "output_type": "stream",
     "text": [
      "文件名:  ./reverb_pre.txt\n",
      "File has 55483 terms.\n",
      "\n",
      "[\"Inco's Net Soars on Higher Metal Prices, Breakup Fee.\", 'EU Energy Chief Backs German Plan for Price Controls.', 'Ex-Plant Worker Shuster Pleads Guilty in Trading Case.', 'Russia, Ukraine End Dispute That Cut Gas Supplies.', 'Jim Cramer: Bare Escentuals, Allergan, Medicis, Avon.']\n"
     ]
    }
   ],
   "source": [
    "# 读取之前生成的news资料里的标题\n",
    "# 并加上句号以及分割成一行一句格式\n",
    "# 以便 reverb 工具来读取\n",
    "\n",
    "file_path = \"./reverb_pre.txt\"\n",
    "fo = open(file_path, \"w+\")\n",
    "print (\"文件名: \", fo.name)\n",
    "\n",
    "for ari_title in pickle_df[:-1][\"ari_title\"]:\n",
    "    line = fo.write( ari_title + \".\\n\" )\n",
    "fo.close()\n",
    "\n",
    "# 读取切割后方便reverb使用的文件所有内容\n",
    "index = 0\n",
    "file_content = \"\"\n",
    "with open(file_path, 'r') as f:\n",
    "    file_content = f.read()\n",
    "\n",
    "pre_content_list = file_content.split(\"\\n\")\n",
    "print(\"File has\", len(pre_content_list), \"terms.\\n\")\n",
    "\n",
    "# Print the last 5 rows for checking\n",
    "print(pre_content_list[:5])"
   ]
  },
  {
   "cell_type": "code",
   "execution_count": 5,
   "metadata": {},
   "outputs": [],
   "source": [
    "# Call Reverb for OpenIE parsing\n",
    "# Run command below before continuing on the next step:\n",
    "#   java -Xmx512m -jar ./test-reverb/reverb.jar --quiet reverb_pre.txt > reverb_result.txt"
   ]
  },
  {
   "cell_type": "code",
   "execution_count": null,
   "metadata": {},
   "outputs": [],
   "source": [
    "%%time\n",
    "#  CPU times: user 3min 56s\n",
    "\n",
    "# reverb tool 生成的结果文件,命令行生成的,带有额外杂讯\n",
    "result_file_name = \"reverb_result.txt\"\n",
    "file_content = \"\"\n",
    "with open(result_file_name, 'r') as out:\n",
    "    file_content = out.read()\n",
    "res_content_list = file_content.split(\"\\n\")\n",
    "\n",
    "# Remove last line (empty string)\n",
    "del res_content_list[-1]\n",
    "\n",
    "# 提取 reverb 结果文件中需要的三元组信息\n",
    "src_line_numbers = []\n",
    "reverb_res_list = []\n",
    "for fc in range(0, len(res_content_list)):\n",
    "    line_tokens = res_content_list[fc].split(\"\\t\")\n",
    "    src_line_numbers.append(int(line_tokens[1]) - 1)\n",
    "    reverb_res_list.append(line_tokens[-3:])\n",
    "# print(len(reverb_res_list), \"\\n\", reverb_res_list[:1], \"\\n\" )\n",
    "\n",
    "# 因为 reverb 并没有把所有news title 全部生成三元组格式\n",
    "# 有一些遗漏了.所以需要检索出 reverb 结果对应的时间和股票 price\n",
    "# 把 reverb 生成结果 与原来的news data 检索比对\n",
    "reverb_df_list = []\n",
    "i = 0\n",
    "for terms in log_progress(reverb_res_list):\n",
    "    terms = reverb_res_list[i]\n",
    "    src_line_number = src_line_numbers[i]\n",
    "    \n",
    "    # Extract date\n",
    "    date_t = pickle_df[\"ari_time\"][src_line_number][0:10]\n",
    "    # Join terms as a string\n",
    "    ari_title_t = ' '.join(terms)\n",
    "    price_t = pickle_df[\"price\"][src_line_number]\n",
    "    \n",
    "    # Print OpenIE extraction result for checking\n",
    "    # line_lower = pre_content_list[src_line_number].lower()\n",
    "    # print(i, date_t, line_lower, str(terms), price_t, \"\\n\")\n",
    "    \n",
    "    reverb_df_list.append([date_t, ari_title_t, price_t])\n",
    "    i += 1"
   ]
  },
  {
   "cell_type": "code",
   "execution_count": 18,
   "metadata": {},
   "outputs": [
    {
     "name": "stdout",
     "output_type": "stream",
     "text": [
      "Shape: (13921, 3)\n",
      "Shape:  (13921, 3)\n"
     ]
    }
   ],
   "source": [
    "# 真正要用来训练的资料\n",
    "# 提取了三元组,并组合了对应的股票价格和时间\n",
    "reverb_df = pd.DataFrame(reverb_df_list, columns=[\"ari_time\", \"ari_title\", \"price\"])\n",
    "print(\"Shape:\", reverb_df.shape)\n",
    "reverb_df.to_pickle('train_reduce.pkl')\n",
    "reverb_pkl_df = pd.read_pickle('train_reduce.pkl')\n",
    "print(\"Shape: \", reverb_pkl_df.shape)"
   ]
  },
  {
   "cell_type": "code",
   "execution_count": 19,
   "metadata": {},
   "outputs": [
    {
     "name": "stdout",
     "output_type": "stream",
     "text": [
      "     ari_time                       ari_title  price\n",
      "0  2006-10-27         balda say investor asks      0\n",
      "1  2006-11-01                    ace lift pay      0\n",
      "2  2006-11-08  namibian investors buy absa 's      1\n"
     ]
    }
   ],
   "source": [
    "# 输出训练资料查验\n",
    "print( reverb_pkl_df[:3])"
   ]
  },
  {
   "cell_type": "code",
   "execution_count": null,
   "metadata": {},
   "outputs": [],
   "source": []
  }
 ],
 "metadata": {
  "kernelspec": {
   "display_name": "Python 3",
   "language": "python",
   "name": "python3"
  },
  "language_info": {
   "codemirror_mode": {
    "name": "ipython",
    "version": 3
   },
   "file_extension": ".py",
   "mimetype": "text/x-python",
   "name": "python",
   "nbconvert_exporter": "python",
   "pygments_lexer": "ipython3",
   "version": "3.5.2"
  }
 },
 "nbformat": 4,
 "nbformat_minor": 2
}
