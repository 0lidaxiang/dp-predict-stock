{
 "cells": [
  {
   "cell_type": "code",
   "execution_count": 1,
   "metadata": {},
   "outputs": [
    {
     "name": "stderr",
     "output_type": "stream",
     "text": [
      "Using TensorFlow backend.\n"
     ]
    }
   ],
   "source": [
    "# coding: utf-8\n",
    "import numpy as np\n",
    "from sklearn.model_selection import train_test_split\n",
    "from gensim.utils import simple_preprocess\n",
    "\n",
    "import keras\n",
    "from keras.models import load_model\n",
    "from keras.preprocessing.sequence import pad_sequences\n",
    "\n",
    "import pandas as pd\n",
    "import matplotlib.pyplot as plt"
   ]
  },
  {
   "cell_type": "code",
   "execution_count": 2,
   "metadata": {},
   "outputs": [],
   "source": [
    "%run common.ipynb\n",
    "%run word2vec_loader.ipynb"
   ]
  },
  {
   "cell_type": "code",
   "execution_count": 3,
   "metadata": {},
   "outputs": [],
   "source": [
    "# Read pickle and split training and testing sets\n",
    "df = pd.read_pickle('train_reduce.pkl')\n",
    "train_df, test_df = train_test_split(df, test_size=0.8, shuffle=False)\n",
    "train_df, test_df = test_df, train_df"
   ]
  },
  {
   "cell_type": "code",
   "execution_count": 4,
   "metadata": {},
   "outputs": [
    {
     "name": "stdout",
     "output_type": "stream",
     "text": [
      "Word2Vec(vocab=8723, size=50, alpha=0.025)\n",
      "embedding_matrix.shape=(8724, 50)\n"
     ]
    }
   ],
   "source": [
    "# Generate word embedding matrix and word2idx dict\n",
    "embedding_matrix, word2idx = createEmbeddingMatrix(EMBEDDING_DIM)"
   ]
  },
  {
   "cell_type": "code",
   "execution_count": 5,
   "metadata": {},
   "outputs": [
    {
     "name": "stdout",
     "output_type": "stream",
     "text": [
      "(634, 579) (634,)\n"
     ]
    }
   ],
   "source": [
    "# Create training inputs\n",
    "x_texts_idx = text_to_index(train_df['ari_title'], word2idx)\n",
    "x_texts_idx_pad = pad_sequences(x_texts_idx, maxlen=MAX_WORD_COUNT)\n",
    "X_train = x_texts_idx_pad\n",
    "\n",
    "Y_train = train_df['price']\n",
    "assert(len(X_train) == len(Y_train))\n",
    "print(X_train.shape, Y_train.shape)"
   ]
  },
  {
   "cell_type": "code",
   "execution_count": 6,
   "metadata": {},
   "outputs": [
    {
     "name": "stdout",
     "output_type": "stream",
     "text": [
      "(158, 579) (158,)\n"
     ]
    }
   ],
   "source": [
    "# Create training inputs\n",
    "x_texts_idx = text_to_index(test_df['ari_title'], word2idx)\n",
    "x_texts_idx_pad = pad_sequences(x_texts_idx, maxlen=MAX_WORD_COUNT)\n",
    "X_test = x_texts_idx_pad\n",
    "\n",
    "Y_test = test_df['price']\n",
    "assert(len(X_test) == len(Y_test))\n",
    "print(X_test.shape, Y_test.shape)"
   ]
  },
  {
   "cell_type": "code",
   "execution_count": 7,
   "metadata": {},
   "outputs": [
    {
     "name": "stdout",
     "output_type": "stream",
     "text": [
      "Truncated: ./evaluation_history.txt\n",
      "\n",
      "Loading model: models_intermediate/epoch0001.h5\n",
      "634/634 [==============================] - 6s 10ms/step\n",
      "loss=0.6905, accuracy=0.5631\n",
      "\n",
      "158/158 [==============================] - 1s 9ms/step\n",
      "loss=0.6900, accuracy=0.6013\n",
      "Appended: ./evaluation_history.txt\n",
      "\n"
     ]
    }
   ],
   "source": [
    "# Load model\n",
    "# model = load_model('models/my_model.h5')\n",
    "# model.summary()\n",
    "\n",
    "# Truncate evaluation history file\n",
    "hist_file_path = './evaluation_history.txt'\n",
    "with open(hist_file_path, 'w+') as f:\n",
    "    f.truncate()\n",
    "print('Truncated: %s\\n' % hist_file_path)\n",
    "\n",
    "epoches=[1]\n",
    "for epoch in epoches:\n",
    "    model_path = 'models_intermediate/epoch%04d.h5' % epoch\n",
    "    print('Loading model:', model_path)\n",
    "    model = load_model(model_path)\n",
    "    \n",
    "    # Model evaluation with training set\n",
    "    num_train_first = len(X_train)  # 385\n",
    "    train_loss_accuracy = model.evaluate(X_train[0:num_train_first], Y_train[0:num_train_first], verbose=1)\n",
    "    print('loss=%.4f, accuracy=%.4f\\n' % (train_loss_accuracy[0], train_loss_accuracy[1]))\n",
    "\n",
    "    # Model evaluation with testing set\n",
    "    test_loss_accuracy = model.evaluate(X_test, Y_test, verbose=1)\n",
    "    print('loss=%.04f, accuracy=%.04f' % (test_loss_accuracy[0], test_loss_accuracy[1]))\n",
    "\n",
    "    # Write to file\n",
    "    with open(hist_file_path, 'a+') as f:\n",
    "        # epoch,num_train_test,train_test_loss,train_test_accuracy,num_test,test_loss,test_accuracy\n",
    "        f.write('%05d,%05d,%.04f,%.04f,%05d,%.04f,%.04f\\n' % (epoch,\n",
    "            num_train_first, train_loss_accuracy[0], train_loss_accuracy[1],\n",
    "            len(X_test),     test_loss_accuracy[0],  test_loss_accuracy[1]))\n",
    "    \n",
    "    print('Appended: %s\\n' % hist_file_path)\n"
   ]
  },
  {
   "cell_type": "code",
   "execution_count": 8,
   "metadata": {},
   "outputs": [],
   "source": [
    "# Predict by the model\n",
    "# predict_result = model.predict(X_test, batch_size= 1, verbose=0)\n",
    "\n",
    "# 格式化輸出結果成 1 和 0\n",
    "# 預測結果小於0.5的保存爲0,表示判斷爲會下跌。否則表示上漲或有限小數位的不變。\n",
    "# binarized_result = list(map(lambda val: int(round(val[0])), predict_result))\n",
    "\n",
    "# Print first N items for checking\n",
    "# N = 10\n",
    "# for pv,fv in zip(predict_result[:N], binarized_result[:N]):\n",
    "#     print(str(pv[0])[:4], str(fv).rjust(3))"
   ]
  },
  {
   "cell_type": "code",
   "execution_count": 9,
   "metadata": {},
   "outputs": [],
   "source": [
    "# 和真實的股票指數的變化比較，輸出預測的準確率\n",
    "# x1 = binarized_result\n",
    "# x2 = Y_train[-100:]\n",
    "\n",
    "# acc_i = 0\n",
    "# for v1, v2 in zip(x1, x2):\n",
    "#     acc_i += 1 if v1 == v2 else 0\n",
    "# print(\"預測準確率爲:\", acc_i / len(x1))"
   ]
  },
  {
   "cell_type": "code",
   "execution_count": 10,
   "metadata": {},
   "outputs": [],
   "source": [
    "# x2 = Y_train\n",
    "\n",
    "# pre_ress = np.random.randint(2, size=10)\n",
    "# acc_j = 0\n",
    "# for v1,v2 in zip(pre_ress, x2):\n",
    "#     acc_j += 1 if v1 == v2 else 0\n",
    "# print(\"random 1 準確率爲:\", acc_j / len(pre_ress))\n",
    "\n",
    "# pre_ress = np.random.randint(2, size=10)\n",
    "# acc_j = 0\n",
    "# for v1,v2 in zip(pre_ress, x2):\n",
    "#     acc_j += 1 if v1 == v2 else 0\n",
    "# print(\"random 2 準確率爲:\", acc_j / len(pre_ress))\n",
    "\n",
    "# pre_ress = np.random.randint(2, size=10)\n",
    "# acc_j = 0\n",
    "# for v1,v2 in zip(pre_ress, x2):\n",
    "#     acc_j += 1 if v1 == v2 else 0\n",
    "# print(\"random 3 準確率爲:\", acc_j / len(pre_ress))"
   ]
  },
  {
   "cell_type": "code",
   "execution_count": null,
   "metadata": {},
   "outputs": [],
   "source": []
  }
 ],
 "metadata": {
  "kernelspec": {
   "display_name": "Python 3",
   "language": "python",
   "name": "python3"
  },
  "language_info": {
   "codemirror_mode": {
    "name": "ipython",
    "version": 3
   },
   "file_extension": ".py",
   "mimetype": "text/x-python",
   "name": "python",
   "nbconvert_exporter": "python",
   "pygments_lexer": "ipython3",
   "version": "3.5.2"
  }
 },
 "nbformat": 4,
 "nbformat_minor": 2
}
