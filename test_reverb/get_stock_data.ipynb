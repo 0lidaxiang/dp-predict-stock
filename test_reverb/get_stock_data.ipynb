{
 "cells": [
  {
   "cell_type": "markdown",
   "metadata": {},
   "source": [
    "# get new data"
   ]
  },
  {
   "cell_type": "code",
   "execution_count": 1,
   "metadata": {},
   "outputs": [],
   "source": [
    "import os\n",
    "\n",
    "import requests\n",
    "import json\n",
    "# from newsapi import NewsApiClient"
   ]
  },
  {
   "cell_type": "code",
   "execution_count": 2,
   "metadata": {},
   "outputs": [],
   "source": [
    "# define\n",
    "API_KEY = \"25IEBEKH83S6MQOE\""
   ]
  },
  {
   "cell_type": "code",
   "execution_count": 4,
   "metadata": {},
   "outputs": [],
   "source": [
    "# get everything\n",
    "# /v2/top-headlines\n",
    "page_num = 1\n",
    "page_size = 100\n",
    "\n",
    "url_params = {\"function\":\"TIME_SERIES_DAILY_ADJUSTED\", \"symbol\": \".INX\", \"outputsize\": \"full\", \"apikey\": API_KEY}\n",
    "everything_url=\"https://www.alphavantage.co/query?\"\n",
    "r = requests.get(everything_url, params=url_params)\n",
    "\n",
    "# \"Meta Data\": {\n",
    "#         \"1. Information\": \"Daily Time Series with Splits and Dividend Events\",\n",
    "#         \"2. Symbol\": \"MSFT\",\n",
    "#         \"3. Last Refreshed\": \"2018-05-08\",\n",
    "#         \"4. Output Size\": \"Full size\",\n",
    "#         \"5. Time Zone\": \"US/Eastern\"\n",
    "#     },\n",
    "# \"Time Series (Daily)\": {\n",
    "#      \"2018-05-08\": {\n",
    "#             \"1. open\": \"95.8456\",\n",
    "#             \"2. high\": \"96.1600\",\n",
    "#             \"3. low\": \"95.0631\",\n",
    "#             \"4. close\": \"95.8100\",\n",
    "#             \"5. adjusted close\": \"95.8100\",\n",
    "#             \"6. volume\": \"23484589\",\n",
    "#             \"7. dividend amount\": \"0.0000\",\n",
    "#             \"8. split coefficient\": \"1.0000\"\n",
    "#         },"
   ]
  },
  {
   "cell_type": "code",
   "execution_count": 14,
   "metadata": {},
   "outputs": [
    {
     "name": "stdout",
     "output_type": "stream",
     "text": [
      "status:  {'1. Information': 'Daily Time Series with Splits and Dividend Events', '2. Symbol': 'S&P500 Index', '3. Last Refreshed': '2018-05-25', '4. Output Size': 'Full size', '5. Time Zone': 'US/Eastern'}  | page_num:  1  | page_size:  100\n",
      "<class 'dict'> 4607 {'1. open': '1469.2500', '2. high': '1478.0000', '3. low': '1438.3600', '4. close': '1455.2200', '5. adjusted close': '1455.2200', '6. volume': '931800000', '7. dividend amount': '0.0000', '8. split coefficient': '1.0000'}\n",
      "CPU times: user 43.8 ms, sys: 3.58 ms, total: 47.4 ms\n",
      "Wall time: 48.4 ms\n"
     ]
    }
   ],
   "source": [
    "%%time\n",
    "rtext = json.loads(r.text)\n",
    "\n",
    "status = rtext[\"Meta Data\"]\n",
    "articles = rtext[\"Time Series (Daily)\"]\n",
    "\n",
    "print(\"status: \", status,   \" | page_num: \", page_num, \" | page_size: \", page_size)\n",
    "# articles = rtext[\"articles\"]\n",
    "\n",
    "# print(\"articles_type : \", type(articles), \"articles_len : \",  len(articles))\n",
    "print(type(articles), len(articles), articles[\"2000-01-03\"] )\n",
    "# data_res = []\n",
    "# for arti in articles:\n",
    "#     data_dict = dict()\n",
    "#     arti_url = arti[\"url\"]\n",
    "#     arti_time = arti[\"publishedAt\"]\n",
    "#     arti_desc = arti[\"description\"]\n",
    "#     arti_title = arti[\"title\"]\n",
    "#     arti_source = arti[\"source\"]\n",
    "    \n",
    "#     data_dict[\"time\"] = arti_time\n",
    "#     data_dict[\"title\"] = arti_title\n",
    "#     data_res.append(data_dict)"
   ]
  },
  {
   "cell_type": "code",
   "execution_count": null,
   "metadata": {},
   "outputs": [],
   "source": [
    "# print(len(data_dict[\"title\"]), len(data_res))\n",
    "\n",
    "# from operator import itemgetter\n",
    "# newlist = sorted(data_res, key=itemgetter('time')) \n",
    "\n",
    "# for da in newlist[:30]:\n",
    "#     print(da[\"time\"])"
   ]
  }
 ],
 "metadata": {
  "kernelspec": {
   "display_name": "Python 3",
   "language": "python",
   "name": "python3"
  },
  "language_info": {
   "codemirror_mode": {
    "name": "ipython",
    "version": 3
   },
   "file_extension": ".py",
   "mimetype": "text/x-python",
   "name": "python",
   "nbconvert_exporter": "python",
   "pygments_lexer": "ipython3",
   "version": "3.6.5"
  }
 },
 "nbformat": 4,
 "nbformat_minor": 2
}
