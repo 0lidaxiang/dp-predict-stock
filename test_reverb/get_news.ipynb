{
 "cells": [
  {
   "cell_type": "markdown",
   "metadata": {},
   "source": [
    "# get new data"
   ]
  },
  {
   "cell_type": "code",
   "execution_count": 95,
   "metadata": {},
   "outputs": [],
   "source": [
    "import os\n",
    "\n",
    "import time\n",
    "import numpy as np\n",
    "from newsapi import NewsApiClient"
   ]
  },
  {
   "cell_type": "code",
   "execution_count": 96,
   "metadata": {},
   "outputs": [],
   "source": [
    "# news api key : \n",
    "# 16111b4976684a4b8f07dedf332b8e60\n",
    "\n",
    "# {'id': 'cnbc', 'url': 'http://www.cnbc.com',\n",
    "#  'description': 'Get latest business news on stock markets, financial & earnings on CNBC. View world markets streaming charts & video; check stock tickers and quotes.', \n",
    "#  'name': 'CNBC', 'country': 'us', 'category': 'business', 'language': 'en'}, \n",
    "\n",
    "# Init\n",
    "newsapi = NewsApiClient(api_key='16111b4976684a4b8f07dedf332b8e60')\n",
    "\n",
    "# /v2/sources\n",
    "sources = newsapi.get_sources()\n",
    "# print(sources)"
   ]
  },
  {
   "cell_type": "code",
   "execution_count": 97,
   "metadata": {},
   "outputs": [
    {
     "name": "stdout",
     "output_type": "stream",
     "text": [
      "<class 'dict'> dict_keys(['status', 'articles', 'totalResults'])\n",
      "ok 10\n",
      "<class 'list'> 10\n",
      "CPU times: user 27.1 ms, sys: 0 ns, total: 27.1 ms\n",
      "Wall time: 868 ms\n"
     ]
    }
   ],
   "source": [
    "%%time\n",
    "# /v2/top-headlines\n",
    "top_headlines = newsapi.get_top_headlines(sources='cnbc')\n",
    "print(type(top_headlines), top_headlines.keys())\n",
    "\n",
    "status = top_headlines[\"status\"]\n",
    "articles = top_headlines[\"articles\"]\n",
    "totalResults = top_headlines[\"totalResults\"]\n",
    "\n",
    "print(status, totalResults)\n",
    "articles = top_headlines[\"articles\"]\n",
    "\n",
    "print(type(articles), len(articles))\n",
    "# print(type(articles[0]), len(articles[0]), articles[0])\n",
    "data_res = []\n",
    "for arti in articles:\n",
    "    data_dict = dict()\n",
    "    arti_url = arti[\"url\"]\n",
    "    arti_time = arti[\"publishedAt\"]\n",
    "    arti_desc = arti[\"description\"]\n",
    "    arti_title = arti[\"title\"]\n",
    "    arti_source = arti[\"source\"]\n",
    "    \n",
    "    data_dict[\"time\"] = arti_time\n",
    "    data_dict[\"title\"] = arti_title\n",
    "    data_res.append(data_dict)"
   ]
  },
  {
   "cell_type": "code",
   "execution_count": 105,
   "metadata": {},
   "outputs": [
    {
     "name": "stdout",
     "output_type": "stream",
     "text": [
      "{'status': 'ok', 'articles': [], 'totalResults': 0}\n",
      "CPU times: user 25.8 ms, sys: 3.5 ms, total: 29.3 ms\n",
      "Wall time: 885 ms\n"
     ]
    }
   ],
   "source": [
    "%%time\n",
    "# /v2/top-headlines\n",
    "top_headlines = newsapi.get_everything(to='2018-02-05',sources='bloomberg')\n",
    "print(top_headlines)"
   ]
  },
  {
   "cell_type": "code",
   "execution_count": 99,
   "metadata": {},
   "outputs": [
    {
     "name": "stdout",
     "output_type": "stream",
     "text": [
      "{'status': 'ok', 'articles': [], 'totalResults': 0}\n"
     ]
    }
   ],
   "source": [
    "# /v2/top-headlines\n",
    "top_headlines = newsapi.get_top_headlines(q=\"stock\", sources='CNN')  ## cnn-money\n",
    "print(top_headlines)"
   ]
  },
  {
   "cell_type": "code",
   "execution_count": 100,
   "metadata": {},
   "outputs": [
    {
     "name": "stdout",
     "output_type": "stream",
     "text": [
      "{'status': 'ok', 'articles': [], 'totalResults': 0}\n"
     ]
    }
   ],
   "source": [
    "# /v2/top-headlines\n",
    "top_headlines = newsapi.get_everything(to='2017-01-15', sources='reuters')\n",
    "print(top_headlines)"
   ]
  },
  {
   "cell_type": "code",
   "execution_count": 101,
   "metadata": {},
   "outputs": [
    {
     "name": "stdout",
     "output_type": "stream",
     "text": [
      "{'status': 'ok', 'articles': [], 'totalResults': 0}\n"
     ]
    }
   ],
   "source": [
    "# /v2/top-headlines\n",
    "top_headlines = newsapi.get_everything(to='2017-01-15', sources='MSNBC')\n",
    "print(top_headlines)"
   ]
  }
 ],
 "metadata": {
  "kernelspec": {
   "display_name": "Python 3",
   "language": "python",
   "name": "python3"
  },
  "language_info": {
   "codemirror_mode": {
    "name": "ipython",
    "version": 3
   },
   "file_extension": ".py",
   "mimetype": "text/x-python",
   "name": "python",
   "nbconvert_exporter": "python",
   "pygments_lexer": "ipython3",
   "version": "3.5.2"
  }
 },
 "nbformat": 4,
 "nbformat_minor": 2
}
