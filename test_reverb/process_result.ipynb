{
 "cells": [
  {
   "cell_type": "code",
   "execution_count": 2,
   "metadata": {},
   "outputs": [],
   "source": [
    "import time\n",
    "import os\n",
    "import numpy as np"
   ]
  },
  {
   "cell_type": "code",
   "execution_count": 34,
   "metadata": {},
   "outputs": [
    {
     "name": "stdout",
     "output_type": "stream",
     "text": [
      "0\n"
     ]
    }
   ],
   "source": [
    "# out_reverb_jar = os.system(\"java -Xmx512m -jar reverb.jar newsdata.txt > reverb_result1.txt\")\n",
    "# print(out_reverb_jar)"
   ]
  },
  {
   "cell_type": "code",
   "execution_count": 26,
   "metadata": {},
   "outputs": [
    {
     "name": "stdout",
     "output_type": "stream",
     "text": [
      "[['israeli intel firm', 'dig up dirt on', 'obama officials'], ['boris johnson', 'take to', 'fox news'], ['trump', 'slam', 'kerry'], ['armenia protest leader nikol pashinyan', 'elect', 'prime minister'], ['the shocking downfall of eric schneiderman', 'help', 'trump'], ['china', 'go for', 'round # of trade talks'], ['azerbaijan', 'do in', 'the land of fire'], ['dining', 'meet', 'design'], ['']]\n"
     ]
    }
   ],
   "source": [
    "result_file_name = \"reverb_result.txt\"\n",
    "file_content = \"\"\n",
    "with open(result_file_name, 'r') as out:\n",
    "    file_content = out.read()\n",
    "file_content_list = file_content.split(\"\\n\")\n",
    "\n",
    "result_list = []\n",
    "for fc in file_content_list:\n",
    "#     print(fc.split(\"\\t\")[-3:], type(fc.split(\"\\t\")[-3:]))\n",
    "    result_list.append(fc.split(\"\\t\")[-3:])\n",
    "print(result_list)"
   ]
  }
 ],
 "metadata": {
  "kernelspec": {
   "display_name": "Python 3",
   "language": "python",
   "name": "python3"
  },
  "language_info": {
   "codemirror_mode": {
    "name": "ipython",
    "version": 3
   },
   "file_extension": ".py",
   "mimetype": "text/x-python",
   "name": "python",
   "nbconvert_exporter": "python",
   "pygments_lexer": "ipython3",
   "version": "3.5.2"
  }
 },
 "nbformat": 4,
 "nbformat_minor": 2
}
